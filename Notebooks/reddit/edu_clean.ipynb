{
 "cells": [
  {
   "cell_type": "code",
   "execution_count": 1,
   "metadata": {},
   "outputs": [
    {
     "name": "stdout",
     "output_type": "stream",
     "text": [
      "   archived_sub author_sub author_flair_background_color_sub  \\\n",
      "0           1.0    dbenhur                              None   \n",
      "1           1.0    dbenhur                              None   \n",
      "2           1.0    Netizen                              None   \n",
      "3           1.0    Netizen                              None   \n",
      "4           1.0       oska                              None   \n",
      "\n",
      "  author_flair_css_class_sub author_flair_richtext_sub author_flair_text_sub  \\\n",
      "0                       None                        []                  None   \n",
      "1                       None                        []                  None   \n",
      "2                       None                        []                  None   \n",
      "3                       None                        []                  None   \n",
      "4                       None                        []                  None   \n",
      "\n",
      "  author_flair_text_color_sub author_flair_type_sub  brand_safe  can_gild_sub  \\\n",
      "0                        None                  text         1.0           1.0   \n",
      "1                        None                  text         1.0           1.0   \n",
      "2                        None                  text         1.0           1.0   \n",
      "3                        None                  text         1.0           1.0   \n",
      "4                        None                  text         1.0           1.0   \n",
      "\n",
      "   ...  associated_award  collapsed_because_crowd_control author_premium_com  \\\n",
      "0  ...               NaN                              NaN                NaN   \n",
      "1  ...               NaN                              NaN                NaN   \n",
      "2  ...               NaN                              NaN                NaN   \n",
      "3  ...               NaN                              NaN                NaN   \n",
      "4  ...               NaN                              NaN                NaN   \n",
      "\n",
      "  treatment_tags_com  top_awarded_type_com  comment_type  \\\n",
      "0                NaN                   NaN           NaN   \n",
      "1                NaN                   NaN           NaN   \n",
      "2                NaN                   NaN           NaN   \n",
      "3                NaN                   NaN           NaN   \n",
      "4                NaN                   NaN           NaN   \n",
      "\n",
      "   collapsed_reason_code  retrieved_utc_com author_is_blocked  \\\n",
      "0                    NaN                NaN               NaN   \n",
      "1                    NaN                NaN               NaN   \n",
      "2                    NaN                NaN               NaN   \n",
      "3                    NaN                NaN               NaN   \n",
      "4                    NaN                NaN               NaN   \n",
      "\n",
      "   unrepliable_reason  \n",
      "0                 NaN  \n",
      "1                 NaN  \n",
      "2                 NaN  \n",
      "3                 NaN  \n",
      "4                 NaN  \n",
      "\n",
      "[5 rows x 200 columns]\n"
     ]
    }
   ],
   "source": [
    "import pandas as pd\n",
    "\n",
    "# Load the submissions and comments data from files\n",
    "submissions_df = pd.read_json('data/subreddit/ed_sub', lines=True)\n",
    "comments_df = pd.read_json('data/subreddit/ed_comm', lines=True)\n",
    "\n",
    "# Prepare the data\n",
    "# Remove the 't3_' prefix from 'link_id' in comments_df to match the 'id' in submissions_df\n",
    "comments_df['link_id'] = comments_df['link_id'].str.replace('t3_', '')\n",
    "\n",
    "# Merge the DataFrames on the 'id' of submissions and 'link_id' of comments\n",
    "merged_df = pd.merge(submissions_df, comments_df, left_on='id', right_on='link_id', how='left', suffixes=('_sub', '_com'))\n",
    "\n",
    "\n",
    "print(merged_df.head())"
   ]
  },
  {
   "cell_type": "code",
   "execution_count": 2,
   "metadata": {},
   "outputs": [
    {
     "data": {
      "text/plain": [
       "809079"
      ]
     },
     "execution_count": 2,
     "metadata": {},
     "output_type": "execute_result"
    }
   ],
   "source": [
    "len(merged_df)"
   ]
  },
  {
   "cell_type": "code",
   "execution_count": 3,
   "metadata": {},
   "outputs": [
    {
     "name": "stdout",
     "output_type": "stream",
     "text": [
      "['archived_sub', 'author_sub', 'author_flair_background_color_sub', 'author_flair_css_class_sub', 'author_flair_richtext_sub', 'author_flair_text_sub', 'author_flair_text_color_sub', 'author_flair_type_sub', 'brand_safe', 'can_gild_sub', 'contest_mode', 'created_utc_sub', 'distinguished_sub', 'domain', 'edited_sub', 'gilded_sub', 'hidden', 'hide_score', 'id_sub', 'is_crosspostable', 'is_reddit_media_domain', 'is_self', 'is_video', 'link_flair_css_class', 'link_flair_richtext', 'link_flair_text', 'link_flair_text_color', 'link_flair_type', 'locked_sub', 'media', 'media_embed', 'no_follow_sub', 'num_comments', 'num_crossposts', 'over_18', 'parent_whitelist_status', 'permalink_sub', 'retrieved_on_sub', 'rte_mode_sub', 'score_sub', 'secure_media', 'secure_media_embed', 'selftext', 'send_replies_sub', 'spoiler', 'stickied_sub', 'subreddit_sub', 'subreddit_id_sub', 'subreddit_name_prefixed_sub', 'subreddit_type_sub', 'suggested_sort', 'thumbnail', 'thumbnail_height', 'thumbnail_width', 'title', 'url', 'whitelist_status', 'author_cakeday_sub', 'post_hint', 'preview', 'is_original_content', 'downs_sub', 'num_reports_sub', 'banned_by_sub', 'name_sub', 'likes_sub', 'clicked', 'saved_sub', 'ups_sub', 'approved_by_sub', 'selftext_html', 'created_sub', 'report_reasons_sub', 'mod_reports_sub', 'user_reports_sub', 'from', 'from_id', 'from_kind', 'quarantine', 'view_count', 'approved_at_utc_sub', 'banned_at_utc_sub', 'can_mod_post_sub', 'pinned', 'crosspost_parent', 'crosspost_parent_list', 'mod_note_sub', 'mod_reason_by_sub', 'mod_reason_title_sub', 'subreddit_subscribers', 'media_metadata', 'author_flair_template_id_sub', 'category', 'content_categories', 'media_only', 'post_categories', 'pwls', 'removal_reason_sub', 'visited', 'wls', 'previous_visits', 'author_created_utc_sub', 'author_fullname_sub', 'is_meta', 'link_flair_background_color', 'link_flair_template_id', 'author_patreon_flair_sub', 'gildings_sub', 'is_robot_indexable', 'all_awardings_sub', 'total_awards_received_sub', 'allow_live_comments', 'discussion_type', 'awarders_sub', 'removed_by', 'removed_by_category', 'author_premium_sub', 'treatment_tags_sub', 'upvote_ratio', 'is_created_from_ads_ui', 'retrieved_utc_sub', 'top_awarded_type_sub', 'url_overridden_by_dest', 'call_to_action', 'downs_com', 'score_com', 'archived_com', 'controversiality', 'score_hidden', 'subreddit_id_com', 'ups_com', 'distinguished_com', 'link_id', 'author_flair_text_com', 'body', 'parent_id', 'subreddit_com', 'author_com', 'author_flair_css_class_com', 'edited_com', 'retrieved_on_com', 'name_com', 'gilded_com', 'id_com', 'created_utc_com', 'removal_reason_com', 'body_html', 'mod_reports_com', 'created_com', 'num_reports_com', 'replies', 'report_reasons_com', 'approved_by_com', 'saved_com', 'user_reports_com', 'banned_by_com', 'likes_com', 'stickied_com', 'author_cakeday_com', 'can_gild_com', 'approved_at_utc_com', 'can_mod_post_com', 'collapsed', 'collapsed_reason', 'banned_at_utc_com', 'is_submitter', 'permalink_com', 'subreddit_type_com', 'mod_note_com', 'mod_reason_by_com', 'mod_reason_title_com', 'no_follow_com', 'send_replies_com', 'author_flair_template_id_com', 'author_flair_background_color_com', 'author_flair_text_color_com', 'rte_mode_com', 'author_flair_richtext_com', 'author_flair_type_com', 'author_created_utc_com', 'author_fullname_com', 'subreddit_name_prefixed_com', 'gildings_com', 'author_patreon_flair_com', 'quarantined', 'locked_com', 'all_awardings_com', 'total_awards_received_com', 'steward_reports', 'awarders_com', 'associated_award', 'collapsed_because_crowd_control', 'author_premium_com', 'treatment_tags_com', 'top_awarded_type_com', 'comment_type', 'collapsed_reason_code', 'retrieved_utc_com', 'author_is_blocked', 'unrepliable_reason']\n"
     ]
    }
   ],
   "source": [
    "column_names = merged_df.columns.tolist()\n",
    "print(column_names)"
   ]
  },
  {
   "cell_type": "code",
   "execution_count": 4,
   "metadata": {},
   "outputs": [
    {
     "name": "stdout",
     "output_type": "stream",
     "text": [
      "        archived_sub        author_sub author_flair_background_color_sub  \\\n",
      "524309           0.0          VU-Guide                               NaN   \n",
      "524310           0.0   educationtopten                               NaN   \n",
      "524311           0.0          madhavkr                               NaN   \n",
      "524312           0.0       sheetal0303                               NaN   \n",
      "524313           0.0  nelsonpattrick43                               NaN   \n",
      "\n",
      "       author_flair_css_class_sub author_flair_richtext_sub  \\\n",
      "524309                       None                       NaN   \n",
      "524310                       None                       NaN   \n",
      "524311                       None                       NaN   \n",
      "524312                       None                       NaN   \n",
      "524313                       None                       NaN   \n",
      "\n",
      "       author_flair_text_sub author_flair_text_color_sub  \\\n",
      "524309                  None                         NaN   \n",
      "524310                  None                         NaN   \n",
      "524311                  None                         NaN   \n",
      "524312                  None                         NaN   \n",
      "524313                  None                         NaN   \n",
      "\n",
      "       author_flair_type_sub  brand_safe  can_gild_sub  ...  \\\n",
      "524309                   NaN         1.0           NaN  ...   \n",
      "524310                   NaN         1.0           NaN  ...   \n",
      "524311                   NaN         1.0           NaN  ...   \n",
      "524312                   NaN         1.0           NaN  ...   \n",
      "524313                   NaN         1.0           NaN  ...   \n",
      "\n",
      "        collapsed_because_crowd_control author_premium_com treatment_tags_com  \\\n",
      "524309                              NaN                NaN                NaN   \n",
      "524310                              NaN                NaN                NaN   \n",
      "524311                              NaN                NaN                NaN   \n",
      "524312                              NaN                NaN                NaN   \n",
      "524313                              NaN                NaN                NaN   \n",
      "\n",
      "       top_awarded_type_com  comment_type  collapsed_reason_code  \\\n",
      "524309                  NaN           NaN                    NaN   \n",
      "524310                  NaN           NaN                    NaN   \n",
      "524311                  NaN           NaN                    NaN   \n",
      "524312                  NaN           NaN                    NaN   \n",
      "524313                  NaN           NaN                    NaN   \n",
      "\n",
      "        retrieved_utc_com  author_is_blocked unrepliable_reason  Year  \n",
      "524309                NaN                NaN                NaN  2018  \n",
      "524310                NaN                NaN                NaN  2018  \n",
      "524311                NaN                NaN                NaN  2018  \n",
      "524312                NaN                NaN                NaN  2018  \n",
      "524313                NaN                NaN                NaN  2018  \n",
      "\n",
      "[5 rows x 201 columns]\n"
     ]
    }
   ],
   "source": [
    "# Convert 'created_utc_sub' to datetime format\n",
    "merged_df['created_utc_sub'] = pd.to_datetime(merged_df['created_utc_sub'], unit='s')\n",
    "\n",
    "# Extract the year from the datetime\n",
    "merged_df['Year'] = merged_df['created_utc_sub'].dt.year\n",
    "\n",
    "# Filter the DataFrame for the years 2018, 2019, 2020, 2021, and 2022\n",
    "filtered_df = merged_df[merged_df['Year'].isin([2018, 2019, 2020, 2021, 2022])]\n",
    "\n",
    "# Display the first few rows of the filtered DataFrame\n",
    "print(filtered_df.head())"
   ]
  },
  {
   "cell_type": "code",
   "execution_count": 5,
   "metadata": {},
   "outputs": [
    {
     "data": {
      "text/plain": [
       "284770"
      ]
     },
     "execution_count": 5,
     "metadata": {},
     "output_type": "execute_result"
    }
   ],
   "source": [
    "len(filtered_df)"
   ]
  },
  {
   "cell_type": "code",
   "execution_count": 6,
   "metadata": {},
   "outputs": [
    {
     "name": "stdout",
     "output_type": "stream",
     "text": [
      "                                                     body  Sentiment\n",
      "524332                                          [deleted]   0.000000\n",
      "524333  Public school teacher. Students absolutely sti...   0.100000\n",
      "524334                                          [deleted]   0.000000\n",
      "524335                                   Lol, high-five.    0.800000\n",
      "524336  Also a teacher.  Can confirm, students still l...  -0.133333\n"
     ]
    }
   ],
   "source": [
    "from textblob import TextBlob\n",
    "\n",
    "# Function to calculate sentiment polarity\n",
    "def calculate_sentiment(text):\n",
    "    try:\n",
    "        return TextBlob(text).sentiment.polarity\n",
    "    except:\n",
    "        return None\n",
    "\n",
    "# Filter out rows where 'body' is NaN\n",
    "filtered_df = filtered_df.dropna(subset=['body'])\n",
    "\n",
    "# Apply the function to each comment\n",
    "filtered_df['Sentiment'] = filtered_df['body'].apply(calculate_sentiment)\n",
    "\n",
    "# Display the first few rows to verify\n",
    "print(filtered_df[['body', 'Sentiment']].head())\n"
   ]
  },
  {
   "cell_type": "code",
   "execution_count": 7,
   "metadata": {},
   "outputs": [
    {
     "name": "stderr",
     "output_type": "stream",
     "text": [
      "100%|██████████| 145873/145873 [1:27:07<00:00, 27.90it/s]\n",
      "/var/folders/vz/xnvh56_d73j4fb9pp3_7c9k40000gn/T/ipykernel_1783/2592505460.py:30: SettingWithCopyWarning: \n",
      "A value is trying to be set on a copy of a slice from a DataFrame.\n",
      "Try using .loc[row_indexer,col_indexer] = value instead\n",
      "\n",
      "See the caveats in the documentation: https://pandas.pydata.org/pandas-docs/stable/user_guide/indexing.html#returning-a-view-versus-a-copy\n",
      "  filtered_df_clean['Emotions'] = filtered_df_clean['body'].progress_apply(detect_emotion)\n"
     ]
    },
    {
     "name": "stdout",
     "output_type": "stream",
     "text": [
      "Processing completed in 5227.89 seconds.\n",
      "Results have been written to 'edu_sent_emo.csv'.\n"
     ]
    }
   ],
   "source": [
    "from transformers import pipeline\n",
    "from tqdm import tqdm\n",
    "import time\n",
    "\n",
    "tqdm.pandas()\n",
    "\n",
    "# Load the pipeline for text classification\n",
    "classifier = pipeline(\"text-classification\", model=\"bhadresh-savani/distilbert-base-uncased-emotion\", truncation=True)\n",
    "\n",
    "def detect_emotion(text):\n",
    "    try:\n",
    "        if pd.isnull(text) or text.strip() == \"\":\n",
    "            return None\n",
    "        # Use the classifier directly\n",
    "        result = classifier(text)\n",
    "        # The result is a list of dictionaries, each with 'label' and 'score' keys\n",
    "        predicted_label = result[0]['label']\n",
    "        return predicted_label\n",
    "    except Exception as e:\n",
    "        print(f\"Error processing text: {e}\")\n",
    "        return None\n",
    "\n",
    "# Filter out rows where 'body' is '[deleted]' or too short\n",
    "filtered_df_clean = filtered_df[(filtered_df['body'] != '[deleted]') & (filtered_df['body'].str.len() > 3)]\n",
    "\n",
    "# Initialize timing\n",
    "start_time = time.time()\n",
    "\n",
    "# Apply the emotion analysis on the cleaned DataFrame with a progress bar\n",
    "filtered_df_clean['Emotions'] = filtered_df_clean['body'].progress_apply(detect_emotion)\n",
    "\n",
    "# Calculate and print processing time\n",
    "end_time = time.time()\n",
    "print(f\"Processing completed in {(end_time - start_time):.2f} seconds.\")\n",
    "\n",
    "# Write results to CSV\n",
    "filtered_df_clean.to_csv('data/edu_sent_emo.csv', index=False)\n",
    "\n",
    "print(\"Results have been written to 'edu_sent_emo.csv'.\")\n",
    "\n"
   ]
  },
  {
   "cell_type": "code",
   "execution_count": 8,
   "metadata": {},
   "outputs": [
    {
     "name": "stderr",
     "output_type": "stream",
     "text": [
      "/var/folders/vz/xnvh56_d73j4fb9pp3_7c9k40000gn/T/ipykernel_1783/3612492627.py:3: DtypeWarning: Columns (0,2,3,4,5,6,7,9,12,21,23,24,25,26,27,29,32,33,34,38,40,43,44,48,52,64,68,70,73,74,84,85,90,91,100,102,104,105,107,109,113,115,117,122,131,133,141,145,146,147,154,163,173,176,182,186,188,189,193,196) have mixed types. Specify dtype option on import or set low_memory=False.\n",
      "  df = pd.read_csv('data/edu_sent_emo.csv')\n"
     ]
    },
    {
     "data": {
      "image/png": "[encoded data removed]",
      "text/plain": [
       "<Figure size 1000x600 with 1 Axes>"
      ]
     },
     "metadata": {},
     "output_type": "display_data"
    }
   ],
   "source": [
    "import matplotlib.pyplot as plt\n",
    "\n",
    "df = pd.read_csv('data/edu_sent_emo.csv')\n",
    "\n",
    "# Convert 'created_utc_sub' to datetime and extract the year\n",
    "df['Year'] = pd.to_datetime(df['created_utc_sub']).dt.year\n",
    "\n",
    "# Aggregate the data by 'Year' and calculate the mean sentiment\n",
    "yearly_sentiment = df.groupby('Year')['Sentiment'].mean().reset_index()\n",
    "\n",
    "# Plotting the trend of sentiment over years\n",
    "plt.figure(figsize=(10, 6))\n",
    "plt.plot(yearly_sentiment['Year'], yearly_sentiment['Sentiment'], marker='o', linestyle='-', color='b')\n",
    "\n",
    "# Setting the title and labels\n",
    "plt.title('Yearly Sentiment Trend Analysis')\n",
    "plt.xlabel('Year')\n",
    "plt.ylabel('Average Sentiment')\n",
    "plt.grid(True)\n",
    "\n",
    "# Show the plot\n",
    "plt.show()"
   ]
  }
 ],
 "metadata": {
  "kernelspec": {
   "display_name": "Python 3",
   "language": "python",
   "name": "python3"
  },
  "language_info": {
   "codemirror_mode": {
    "name": "ipython",
    "version": 3
   },
   "file_extension": ".py",
   "mimetype": "text/x-python",
   "name": "python",
   "nbconvert_exporter": "python",
   "pygments_lexer": "ipython3",
   "version": "3.11.2"
  }
 },
 "nbformat": 4,
 "nbformat_minor": 2
}
